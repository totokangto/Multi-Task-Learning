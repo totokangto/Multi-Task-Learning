{
 "cells": [
  {
   "cell_type": "code",
   "execution_count": null,
   "id": "63cb9a19",
   "metadata": {
    "vscode": {
     "languageId": "plaintext"
    }
   },
   "outputs": [],
   "source": [
    "import os\n",
    "os.environ[\"DATA_PATH\"] = \"/home/jovyan/ve-datavol-1/dataset\"\n",
    "from mypath import DATA_PATH\n",
    "print(DATA_PATH)"
   ]
  },
  {
   "cell_type": "code",
   "execution_count": null,
   "id": "e1398acb",
   "metadata": {
    "vscode": {
     "languageId": "plaintext"
    }
   },
   "outputs": [],
   "source": [
    "RANDOM=$$\n",
    "CUDA_VISIBLE_DEVICES=0,1 torchrun -m torch.distributed.launch --nproc_per_node=2  --master_port=$((RANDOM%1000+12000))  main.py --config_exp './configs/nyud/nyud_vitLp16_MLoRE.yml' --run_mode train"
   ]
  }
 ],
 "metadata": {
  "language_info": {
   "name": "python"
  }
 },
 "nbformat": 4,
 "nbformat_minor": 5
}
